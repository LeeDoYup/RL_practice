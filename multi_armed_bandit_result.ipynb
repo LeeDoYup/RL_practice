{
 "cells": [
  {
   "cell_type": "code",
   "execution_count": null,
   "metadata": {
    "collapsed": true
   },
   "outputs": [],
   "source": [
    "from multi_armed_bandit.bandit import *\n",
    "from multi_armed_bandit.agent import *\n",
    "from multi_armed_bandit.policy import *"
   ]
  },
  {
   "cell_type": "code",
   "execution_count": null,
   "metadata": {
    "collapsed": true
   },
   "outputs": [],
   "source": [
    "from pathos.multiprocessing import ProcessingPool as Pool\n",
    "MAX_STEPS = 10000\n",
    "\n",
    "def run_agent(agent):\n",
    "    for i in range(MAX_STEPS):\n",
    "        agent.pull()\n",
    "    return agent"
   ]
  },
  {
   "cell_type": "code",
   "execution_count": null,
   "metadata": {
    "collapsed": true
   },
   "outputs": [],
   "source": [
    "import matplotlib.pyplot as plt\n",
    "def plot_result(result, ymax=2.0, ymin=0.0, legend_x=1.4, legend_y=1.0):\n",
    "    num_exp, num_policy = np.shape(result)\n",
    "    #Plot average reward_plot\n",
    "    for pol in range(num_policy):\n",
    "        expected_reward = np.zeros(result[0][pol].step)\n",
    "        for exp in range(num_exp):\n",
    "            num_step = result[exp][pol].step+1\n",
    "            expected_reward += result[exp][pol].reward_cumulated/np.arange(1, num_step)\n",
    "        expected_reward /= num_exp\n",
    "        plt.plot(expected_reward, label=result[0][pol].name)\n",
    "    plt.xlabel('iterations')\n",
    "    plt.ylabel('average reward')\n",
    "    plt.ylim(ymin, ymax)\n",
    "    plt.legend(loc='upper right', bbox_to_anchor=(legend_x, legend_y))\n",
    "    plt.title('Average Reward of Policies')\n",
    "    plt.show()\n",
    "\n",
    "    for pol in range(num_policy):\n",
    "        optimal_ratio = np.zeros(result[0][pol].step)\n",
    "        for exp in range(num_exp):\n",
    "            num_step = result[exp][pol].step+1\n",
    "            optimal_ratio += result[exp][pol].optimal_cumulated/np.arange(1, num_step)\n",
    "        optimal_ratio /= num_exp\n",
    "        plt.plot(optimal_ratio, label=result[0][pol].name)\n",
    "    plt.xlabel('iterations')\n",
    "    plt.ylabel('\\% of optimal action')\n",
    "    plt.ylim(0.0, 1.0)\n",
    "    plt.legend(loc='upper right', bbox_to_anchor=(legend_x, legend_y))\n",
    "    plt.title('% of Optimal Action of Policies')\n",
    "    plt.show()"
   ]
  },
  {
   "cell_type": "code",
   "execution_count": null,
   "metadata": {},
   "outputs": [],
   "source": [
    "#1. Comparision of Various Policies\n",
    "bandit = GaussianBandit(k=10)\n",
    "policies = [Greedy_Policy(), e_Greedy_Policy(0.1), e_Greedy_Policy(0.05), e_Greedy_Policy(0.01),\\\n",
    "            Random_Policy(), UCB_Policy(1.0), UCB_Policy(2.0)]\n",
    "agents = [Agent(bandit.k, policy, bandit=bandit) for policy in policies]\n",
    "p = Pool(len(agents))\n",
    "\n",
    "result = []\n",
    "from tqdm import tqdm\n",
    "for i in tqdm(range(25)):\n",
    "    for agent in agents:\n",
    "        agent.reset()\n",
    "    _result = p.map(run_agent, agents)\n",
    "    result.append(_result)"
   ]
  },
  {
   "cell_type": "code",
   "execution_count": null,
   "metadata": {},
   "outputs": [],
   "source": [
    "plot_result(result, 2.0)"
   ]
  },
  {
   "cell_type": "code",
   "execution_count": null,
   "metadata": {},
   "outputs": [],
   "source": [
    "#2. Comparision of Initialization of Greedy\n",
    "bandit = GaussianBandit(k=10)\n",
    "policies = [Greedy_Policy(), Greedy_Policy(), Greedy_Policy(), Greedy_Policy()]\n",
    "init_values = [0.0, 2.5, 5.0, 10.0]\n",
    "agents = [Agent(bandit.k, policy, init_value=init_value, bandit=bandit)\\\n",
    "          for policy, init_value in zip(policies, init_values)]\n",
    "\n",
    "p = Pool(len(agents))\n",
    "\n",
    "result = []\n",
    "from tqdm import tqdm\n",
    "for i in tqdm(range(25)):\n",
    "    for agent in agents:\n",
    "        agent.reset(init_type=agent.init_type, value=agent.init_value, std=agent.init_std)\n",
    "    _result = p.map(run_agent, agents)\n",
    "    result.append(_result)"
   ]
  },
  {
   "cell_type": "code",
   "execution_count": null,
   "metadata": {
    "scrolled": true
   },
   "outputs": [],
   "source": [
    "plot_result(result, 2.0)"
   ]
  },
  {
   "cell_type": "code",
   "execution_count": null,
   "metadata": {},
   "outputs": [],
   "source": [
    "from multi_armed_bandit.gradient_agent import *"
   ]
  },
  {
   "cell_type": "code",
   "execution_count": null,
   "metadata": {},
   "outputs": [],
   "source": [
    "#3. Comparision of GradientBanditAgent\n",
    "policies = [Greedy_Policy(), Greedy_Policy(), Greedy_Policy()]\n",
    "gammas = [0.05, 0.1, 0.4]\n",
    "\n",
    "agents += [GradientBanditAgent(bandit.k, policy, gamma=gamma, bandit=bandit)\\\n",
    "          for policy, gamma in zip(policies, gammas)]\n",
    "\n",
    "policies = [Greedy_Policy(), Greedy_Policy(), Greedy_Policy()]\n",
    "gammas = [0.05, 0.1, 0.4]\n",
    "agents += [GradientBanditAgent(bandit.k, policy, gamma=gamma, baseline_type=None, bandit=bandit)\\\n",
    "          for policy, gamma in zip(policies, gammas)]\n",
    "\n",
    "p = Pool(len(agents))\n",
    "\n",
    "result = []\n",
    "from tqdm import tqdm\n",
    "for i in tqdm(range(25)):\n",
    "    for agent in agents:\n",
    "        agent.reset(init_type=agent.init_type, value=agent.init_value, std=agent.init_std)\n",
    "    _result = p.map(run_agent, agents)\n",
    "    result.append(_result)\n"
   ]
  },
  {
   "cell_type": "code",
   "execution_count": null,
   "metadata": {},
   "outputs": [],
   "source": [
    "plot_result(result, 1.5, legend_x=1.8, legend_y=1.0)"
   ]
  },
  {
   "cell_type": "code",
   "execution_count": null,
   "metadata": {
    "collapsed": true
   },
   "outputs": [],
   "source": []
  }
 ],
 "metadata": {
  "kernelspec": {
   "display_name": "Python 2",
   "language": "python",
   "name": "python2"
  },
  "language_info": {
   "codemirror_mode": {
    "name": "ipython",
    "version": 2
   },
   "file_extension": ".py",
   "mimetype": "text/x-python",
   "name": "python",
   "nbconvert_exporter": "python",
   "pygments_lexer": "ipython2",
   "version": "2.7.12"
  }
 },
 "nbformat": 4,
 "nbformat_minor": 2
}
